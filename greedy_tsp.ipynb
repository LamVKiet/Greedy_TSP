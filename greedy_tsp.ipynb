{
  "cells": [
    {
      "cell_type": "markdown",
      "metadata": {
        "id": "AovWY3UfT5TO"
      },
      "source": [
        "Nearest Neighbor "
      ]
    },
    {
      "cell_type": "code",
      "execution_count": 8,
      "metadata": {
        "id": "7POrukOFRTmR"
      },
      "outputs": [],
      "source": [
        "import random\n",
        "import itertools\n",
        "import os"
      ]
    },
    {
      "cell_type": "code",
      "execution_count": 31,
      "metadata": {
        "id": "5bSjkVE9oyGS"
      },
      "outputs": [],
      "source": [
        "class NearestNeighbor:\n",
        "    def __init__(self, num_cities):\n",
        "        self.num_cities = num_cities \n",
        "        self.adj_list = {city: {} for city in range(self.num_cities)}\n",
        "        self.generate_random_graph()\n",
        "        \n",
        "    def add_distance(self, city1, city2, distance): \n",
        "        self.adj_list[city1][city2] = distance\n",
        "        self.adj_list[city2][city1] = distance\n",
        "\n",
        "    def generate_random_graph(self): \n",
        "        for city1 in range(self.num_cities):\n",
        "            for city2 in range(city1 + 1, self.num_cities):\n",
        "                distance = random.randint(50, 100)\n",
        "                self.add_distance(city1, city2, distance)\n",
        "\n",
        "    def heuristic(self, current_city, visited): \n",
        "        min_distance = float('inf')\n",
        "        nearest_neighbor = None\n",
        "\n",
        "        for neighbor, distance in self.adj_list[current_city].items(): \n",
        "            if not visited[neighbor] and distance < min_distance: \n",
        "                min_distance = distance\n",
        "                nearest_neighbor = neighbor\n",
        "        return nearest_neighbor, min_distance\n",
        "\n",
        "    def nearest_neighbor(self, start_city):\n",
        "        visited = [False] * self.num_cities \n",
        "        path_nns = [start_city] \n",
        "        visited[start_city] = True\n",
        "        visited_count = 1\n",
        "        total_cost_nns = 0\n",
        "\n",
        "        while visited_count < self.num_cities:\n",
        "            current_city = path_nns[-1]\n",
        "            nearest_neighbor, min_distance = self.heuristic(current_city, visited)\n",
        "            path_nns.append(nearest_neighbor)\n",
        "            visited[nearest_neighbor] = True\n",
        "            visited_count += 1\n",
        "            total_cost_nns += min_distance\n",
        "\n",
        "        path_nns.append(start_city)\n",
        "        total_cost_nns += self.adj_list[path_nns[-2]][start_city]\n",
        "        return path_nns, total_cost_nns\n"
      ]
    },
    {
      "cell_type": "code",
      "execution_count": 32,
      "metadata": {
        "id": "mvR4TIqJRWv4"
      },
      "outputs": [],
      "source": [
        "num_cities = random.randint(4, 5)\n",
        "NNS = NearestNeighbor(num_cities)\n",
        "start_city = random.randint(0, NNS.num_cities - 1)\n",
        "path_nns, total_cost_nns= NNS.nearest_neighbor(start_city)"
      ]
    },
    {
      "cell_type": "code",
      "execution_count": 36,
      "metadata": {
        "colab": {
          "base_uri": "https://localhost:8080/"
        },
        "id": "h8acMHyQRcij",
        "outputId": "ba1a72ee-b532-4e55-846f-482cea7f309f"
      },
      "outputs": [
        {
          "name": "stdout",
          "output_type": "stream",
          "text": [
            "Đường đi tìm được bằng NNS:\n",
            "3 -> 0 -> 1 -> 4 -> 2 -> 3\n",
            "Tổng quãng đường đi được (NNS): 342\n"
          ]
        }
      ],
      "source": [
        "print(\"Đường đi tìm được bằng NNS:\")\n",
        "print(\" -> \".join(map(str, path_nns)))\n",
        "print(\"Tổng quãng đường đi được (NNS):\", total_cost_nns)"
      ]
    },
    {
      "cell_type": "code",
      "execution_count": 17,
      "metadata": {},
      "outputs": [
        {
          "name": "stdout",
          "output_type": "stream",
          "text": [
            "Đồ thị:\n",
            "0: {1: 70, 2: 53, 3: 59, 4: 75}\n",
            "1: {0: 70, 2: 98, 3: 73, 4: 70}\n",
            "2: {0: 53, 1: 98, 3: 55, 4: 69}\n",
            "3: {0: 59, 1: 73, 2: 55, 4: 65}\n",
            "4: {0: 75, 1: 70, 2: 69, 3: 65}\n"
          ]
        }
      ],
      "source": [
        "graph_data = {}\n",
        "print(\"Đồ thị:\")\n",
        "for city, neighbors in NNS.adj_list.items():\n",
        "    print(f\"{city}: {neighbors}\")\n",
        "for city, neighbors in NNS.adj_list.items():\n",
        "    new_neighbor = {}\n",
        "    for neighbor, distance in neighbors.items():\n",
        "        new_neighbor[neighbor] = distance\n",
        "    graph_data[city] = new_neighbor\n"
      ]
    },
    {
      "cell_type": "markdown",
      "metadata": {
        "id": "pCbu-998ozVi"
      },
      "source": [
        "GREEDY METHOD OR CLOSET PAIR"
      ]
    },
    {
      "cell_type": "code",
      "execution_count": 18,
      "metadata": {
        "id": "xJjO2cduKl2t"
      },
      "outputs": [],
      "source": [
        "class Graph_CP:\n",
        "    def __init__(self, vertices): \n",
        "        self.vertices = vertices\n",
        "\n",
        "    def get_neighbors(self, v, edges):\n",
        "        neighbors = []\n",
        "        for edge in edges:\n",
        "            if v not in edge:\n",
        "                continue\n",
        "            neighbors.append(edge[0] if edge[0] != v else edge[1])\n",
        "        return neighbors\n",
        "\n",
        "    def get_all_edges(self):\n",
        "        edge_list = []\n",
        "        for edge in itertools.combinations(self.vertices.keys(), 2):\n",
        "            edge_list.append(edge)\n",
        "        return edge_list"
      ]
    },
    {
      "cell_type": "code",
      "execution_count": 37,
      "metadata": {
        "id": "PG98o3rXrorM"
      },
      "outputs": [],
      "source": [
        "class Closet_Pair:\n",
        "    def perform_algorithm(self, graph):\n",
        "        all_edges = graph_cp.get_all_edges()\n",
        "        edges_sorted = sorted(all_edges, key=lambda x: graph_cp.vertices[x[0]][x[1]])\n",
        "        added_edges = []\n",
        "        for edge in edges_sorted:\n",
        "            degree_map = self.get_degree_map(graph, added_edges)\n",
        "            if len(added_edges) == len(graph_cp.vertices) - 1:\n",
        "                degrees_sorted = sorted(list(degree_map.keys()), key=lambda x: degree_map[x])\n",
        "                final_edge = (degrees_sorted[0], degrees_sorted[1])\n",
        "                added_edges.append(final_edge)\n",
        "                break\n",
        "            u, v = edge\n",
        "            if degree_map[u] == 2 or degree_map[v] == 2:\n",
        "                continue\n",
        "            if self.is_connected(graph, u, v, added_edges):\n",
        "                continue\n",
        "            added_edges.append(edge)\n",
        "            print(\"Added edge:\", edge)\n",
        "        print(\"Tất cả cạnh được thêm vào chu trình: \", added_edges)\n",
        "        print(\"degree_map: \", degree_map)\n",
        "        print(\"edges_sorted: \", edges_sorted)\n",
        "        print(\"degrees_sorted: \", degrees_sorted)\n",
        "        return added_edges\n",
        "\n",
        "    def get_degree_map(self, graph, edges):\n",
        "        v_to_degree = {v: 0 for v in graph_cp.vertices}\n",
        "        for edge in edges:\n",
        "            u, v = edge\n",
        "            v_to_degree[u] = v_to_degree.get(u, 0) + 1 \n",
        "            v_to_degree[v] = v_to_degree.get(v, 0) + 1\n",
        "        return v_to_degree\n",
        "\n",
        "    def is_connected(self, graph, u, v, edges):\n",
        "        visited = set()\n",
        "        def dfs(current):\n",
        "            visited.add(current)\n",
        "            for neighbor in graph_cp.get_neighbors(current, edges):\n",
        "                if neighbor not in visited:\n",
        "                    dfs(neighbor)\n",
        "        dfs(u)\n",
        "        return v in visited\n",
        "\n",
        "    def calculate_total_cost(self, graph, edges):\n",
        "        total_cost_gm = 0\n",
        "        for edge in edges:\n",
        "            u, v = edge\n",
        "            total_cost_gm += graph_cp.vertices[u][v]\n",
        "        return total_cost_gm\n"
      ]
    },
    {
      "cell_type": "code",
      "execution_count": 38,
      "metadata": {
        "colab": {
          "base_uri": "https://localhost:8080/"
        },
        "id": "qmdWbE63RILL",
        "outputId": "928c11ce-d1bc-40ae-aee2-9d5ca33f2d0c"
      },
      "outputs": [],
      "source": [
        "class HamiltonPath:\n",
        "    def __init__(self, graph, start_city):\n",
        "        self.graph = graph\n",
        "        self.start_city = start_city\n",
        "\n",
        "    def find_hamilton_path(self, added_edges):\n",
        "        path = [self.start_city]\n",
        "        visited = {self.start_city}\n",
        "        self.dfs(self.start_city, path, visited, added_edges)\n",
        "        path.append(self.start_city)\n",
        "        return path\n",
        "\n",
        "    def dfs(self, current_city, path, visited, added_edges):\n",
        "        neighbors = self.graph.get_neighbors(current_city, added_edges) \n",
        "        for neighbor in neighbors:\n",
        "            if neighbor not in visited:\n",
        "                path.append(neighbor)\n",
        "                visited.add(neighbor)\n",
        "                self.dfs(neighbor, path, visited, added_edges)\n"
      ]
    },
    {
      "cell_type": "code",
      "execution_count": 39,
      "metadata": {},
      "outputs": [
        {
          "name": "stdout",
          "output_type": "stream",
          "text": [
            "Added edge: (0, 2)\n",
            "Added edge: (2, 3)\n",
            "Added edge: (3, 4)\n",
            "Added edge: (0, 1)\n",
            "Tất cả cạnh được thêm vào chu trình:  [(0, 2), (2, 3), (3, 4), (0, 1), (1, 4)]\n",
            "degree_map:  {0: 2, 1: 1, 2: 2, 3: 2, 4: 1}\n",
            "edges_sorted:  [(0, 2), (2, 3), (0, 3), (3, 4), (2, 4), (0, 1), (1, 4), (1, 3), (0, 4), (1, 2)]\n",
            "degrees_sorted:  [1, 4, 0, 2, 3]\n",
            "Tổng quãng đường đã đi (GM):  313\n"
          ]
        }
      ],
      "source": [
        "graph_cp = Graph_CP(graph_data)\n",
        "CP = Closet_Pair()\n",
        "added_edges = CP.perform_algorithm(graph_cp)\n",
        "total_cost_gm = CP.calculate_total_cost(graph_cp, added_edges)\n",
        "print(\"Tổng quãng đường đã đi (GM): \", total_cost_gm)"
      ]
    },
    {
      "cell_type": "code",
      "execution_count": 23,
      "metadata": {},
      "outputs": [
        {
          "name": "stdout",
          "output_type": "stream",
          "text": [
            "Đường đi tìm được bằng GM: \n",
            "2 -> 0 -> 1 -> 4 -> 3 -> 2\n"
          ]
        }
      ],
      "source": [
        "# Sau khi có chu trình Hamilton\n",
        "path_find_gm = HamiltonPath(graph_cp, start_city)\n",
        "path_gm = path_find_gm.find_hamilton_path(added_edges)\n",
        "print(\"Đường đi tìm được bằng GM: \")\n",
        "print(\" -> \".join(map(str, path_gm)))"
      ]
    },
    {
      "cell_type": "markdown",
      "metadata": {
        "id": "L11tOxo-ltZp"
      },
      "source": [
        "NEAREST ITERATION"
      ]
    },
    {
      "cell_type": "code",
      "execution_count": 24,
      "metadata": {
        "id": "m3LpNkT4AWCI"
      },
      "outputs": [],
      "source": [
        "def find_nearest_city(vertices, unvisited, path_nis):\n",
        "        nearest_city = None\n",
        "        min_distance = float('inf')\n",
        "\n",
        "        for city in path_nis:\n",
        "            for point in unvisited:\n",
        "                distance = vertices[city][point]\n",
        "                if distance < min_distance:\n",
        "                    min_distance = distance\n",
        "                    nearest_city = point\n",
        "        return nearest_city"
      ]
    },
    {
      "cell_type": "code",
      "execution_count": 25,
      "metadata": {
        "id": "SMLw8qOf_wCt"
      },
      "outputs": [],
      "source": [
        "class NearestIteration:\n",
        "    def __init__(self,vertices): \n",
        "        self.vertices = vertices\n",
        "\n",
        "    def nis_heuristic(self, start_city):\n",
        "        '''Tạo danh sách các điểm cần thăm'''\n",
        "        unvisited = list(self.vertices.keys())\n",
        "        unvisited.remove(start_city)\n",
        "        path_nis = [start_city]\n",
        "\n",
        "        while unvisited:\n",
        "            nearest_city = find_nearest_city(self.vertices, unvisited, path_nis)\n",
        "            unvisited.remove(nearest_city)\n",
        "\n",
        "            if len(path_nis) >= 3:\n",
        "                best_index = 1\n",
        "                best_distance = self.vertices[path_nis[best_index - 1]][nearest_city]\\\n",
        "                            + self.vertices[nearest_city][path_nis[best_index]]\\\n",
        "                            - self.vertices[path_nis[best_index - 1]][path_nis[best_index]]\n",
        "                for i in range(2, len(path_nis)): \n",
        "                    distance = self.vertices[path_nis[i - 1]][nearest_city]\\\n",
        "                            + self.vertices[nearest_city][path_nis[i]]\\\n",
        "                            - self.vertices[path_nis[i - 1]][path_nis[i]]\n",
        "                    if distance < best_distance: \n",
        "                        best_index = i\n",
        "                        best_distance = distance\n",
        "                path_nis.insert(best_index, nearest_city)\n",
        "            else:\n",
        "                path_nis.append(nearest_city)\n",
        "\n",
        "        path_nis.append(start_city)\n",
        "        return path_nis\n",
        "    \n",
        "    def calculate_total_cost(self, path_nis):\n",
        "        total_cost_nis = 0\n",
        "        for i in range(len(path_nis) - 1):\n",
        "            total_cost_nis += self.vertices[path_nis[i]][path_nis[i + 1]]\n",
        "        return total_cost_nis\n"
      ]
    },
    {
      "cell_type": "code",
      "execution_count": 26,
      "metadata": {
        "id": "KIPZaFVHhs3x"
      },
      "outputs": [],
      "source": [
        "NIS = NearestIteration(graph_data)\n",
        "path_nis = NIS.nis_heuristic(start_city)\n",
        "total_cost_nis = NIS.calculate_total_cost(path_nis)"
      ]
    },
    {
      "cell_type": "code",
      "execution_count": 27,
      "metadata": {
        "colab": {
          "base_uri": "https://localhost:8080/"
        },
        "id": "Yqw7JKpKhtjt",
        "outputId": "3ce94da7-e1fa-427a-e8be-fbb6dcf12404"
      },
      "outputs": [
        {
          "name": "stdout",
          "output_type": "stream",
          "text": [
            "Đường đi tìm được bằng NIS:\n",
            "2 -> 0 -> 1 -> 4 -> 3 -> 2\n"
          ]
        }
      ],
      "source": [
        "print(\"Đường đi tìm được bằng NIS:\")\n",
        "print(\" -> \".join(map(str, path_nis)))"
      ]
    },
    {
      "cell_type": "code",
      "execution_count": 1786,
      "metadata": {
        "colab": {
          "base_uri": "https://localhost:8080/"
        },
        "id": "Kc_-bXG0EHch",
        "outputId": "be85d98f-69e7-423d-fec8-34cf2bad2ced"
      },
      "outputs": [
        {
          "name": "stdout",
          "output_type": "stream",
          "text": [
            "Tổng quãng đường đi được (NIS):  733\n"
          ]
        }
      ],
      "source": [
        "print(\"Tổng quãng đường đi được (NIS): \", total_cost_nis)"
      ]
    },
    {
      "cell_type": "markdown",
      "metadata": {
        "id": "oJguUoJ6RzEN"
      },
      "source": [
        "BRUTE FORCE (Dùng để tìm tối ưu nhất. Từ đó suy ra hiệu suất)"
      ]
    },
    {
      "cell_type": "code",
      "execution_count": 28,
      "metadata": {
        "id": "kO63HK7SMqOl"
      },
      "outputs": [],
      "source": [
        "class BF:\n",
        "    def __init__(self, vertices):\n",
        "        self.vertices = vertices\n",
        "\n",
        "    def brute_force(self, start_city):\n",
        "        num_cities = len(self.vertices)\n",
        "        min_path = None\n",
        "        min_cost = float('inf')\n",
        "        cities = list(range(num_cities))\n",
        "        cities.remove(start_city)  \n",
        "        permutations = itertools.permutations(cities)\n",
        "\n",
        "        for perm in permutations:\n",
        "            path = [start_city] + list(perm) + [start_city]\n",
        "            cost = self.get_cost(path)\n",
        "            if cost < min_cost:\n",
        "                min_cost = cost\n",
        "                min_path = path\n",
        "        return min_path, min_cost\n",
        "    def get_cost(self, path):\n",
        "        cost = 0\n",
        "        for i in range(len(path) - 1):\n",
        "            start_city = path[i]\n",
        "            end_city = path[i + 1]\n",
        "            cost += self.vertices[start_city][end_city]\n",
        "        return cost\n"
      ]
    },
    {
      "cell_type": "code",
      "execution_count": 29,
      "metadata": {
        "colab": {
          "base_uri": "https://localhost:8080/"
        },
        "id": "6gPw_wc2My1a",
        "outputId": "047f4041-f741-4583-c129-db8f4f0fd8a8"
      },
      "outputs": [
        {
          "name": "stdout",
          "output_type": "stream",
          "text": [
            "Đường đi tối ưu:\n",
            "2 -> 0 -> 1 -> 4 -> 3 -> 2\n",
            "Min cost: 313\n"
          ]
        }
      ],
      "source": [
        "graph = BF(graph_data)\n",
        "min_path, min_cost = graph.brute_force(start_city) \n",
        "print(\"Đường đi tối ưu:\")\n",
        "print(\" -> \".join(map(str, min_path)))\n",
        "print(\"Min cost:\", min_cost)"
      ]
    },
    {
      "cell_type": "markdown",
      "metadata": {
        "id": "fc7W6u28Wp_H"
      },
      "source": [
        "Tính hiệu suất"
      ]
    },
    {
      "cell_type": "code",
      "execution_count": 30,
      "metadata": {
        "colab": {
          "base_uri": "https://localhost:8080/"
        },
        "id": "mIX7YeOvUqwx",
        "outputId": "c9926be2-3af5-4d98-f185-81016be4675a"
      },
      "outputs": [
        {
          "name": "stdout",
          "output_type": "stream",
          "text": [
            "NNS: 345, GM: 313, NIS: 313, Min cost: 313 \n",
            "Hiệu suất của NNS là:  110.22364217252397\n",
            "Hiệu suất của GM là:  100.0\n",
            "Hiệu suất của NIS là:  100.0\n",
            "Chênh lệch quãng đường giữa GM và NNS là 32\n",
            "Các phương pháp có hiệu suất cao nhất là: GM, NIS\n"
          ]
        }
      ],
      "source": [
        "print(f\"NNS: {total_cost_nns}, GM: {total_cost_gm}, NIS: {total_cost_nis}, Min cost: {min_cost} \")\n",
        "def calculate_eff():\n",
        "  x, y, t, z = total_cost_nns, total_cost_gm, total_cost_nis, min_cost\n",
        "  return (x/z) * 100, (y/z) * 100, (t/z) * 100\n",
        "eff_nns, eff_gm, eff_nis = calculate_eff()\n",
        "print(\"Hiệu suất của NNS là: \",eff_nns)\n",
        "print(\"Hiệu suất của GM là: \", eff_gm)\n",
        "print(\"Hiệu suất của NIS là: \", eff_nis)\n",
        "\n",
        "def compare_method():\n",
        "    names = ['NNS', 'GM', 'NIS']\n",
        "    costs = [total_cost_nns, total_cost_gm, total_cost_nis]\n",
        "    max_index = min(range(len(costs)), key=lambda i: costs[i])\n",
        "    highest_cost = costs[max_index]\n",
        "    best_methods = [names[max_index]]\n",
        "    for i in range(len(names)):\n",
        "        if i != max_index:\n",
        "            if costs[i] == highest_cost:\n",
        "                best_methods.append(names[i])\n",
        "            else:\n",
        "                print(f\"Chênh lệch quãng đường giữa {names[max_index]} và {names[i]} là {abs(highest_cost - costs[i])}\")\n",
        "    if len(best_methods) > 1:\n",
        "        print(f\"Các phương pháp có hiệu suất cao nhất là: {', '.join(best_methods)}\")\n",
        "    else:\n",
        "        print(f\"Phương pháp có hiệu suất cao nhất là {best_methods[0]}\")\n",
        "    return best_methods\n",
        "\n",
        "best_eff = compare_method()"
      ]
    },
    {
      "cell_type": "code",
      "execution_count": 1790,
      "metadata": {},
      "outputs": [],
      "source": [
        "file_name = \"result_greedy812.txt\"\n",
        "if not os.path.exists(file_name):\n",
        "    count = 1\n",
        "else:\n",
        "    with open(file_name, \"r\") as f:\n",
        "        first_line = f.readline().strip() \n",
        "        if first_line.startswith(\"-------- Result number\"):\n",
        "            count += 1\n",
        "\n",
        "with open(file_name, \"a\") as f:\n",
        "    f.write(f\"-------- Result number {count} --------\\n\")\n",
        "    f.write(f\"Number of vertices: {num_cities}\\n\")\n",
        "    f.write(f\"NNS: {total_cost_nns}, GM: {total_cost_gm}, NIS: {total_cost_nis}, Min cost: {min_cost}\\n\")\n",
        "    f.write(f\"Eff of NNS: {eff_nns}\\n\")\n",
        "    f.write(f\"Eff of GM: {eff_gm}\\n\")\n",
        "    f.write(f\"Eff of NIS: {eff_nis}\\n\")\n",
        "    f.write(f\"Best eff: {best_eff}\\n\")"
      ]
    },
    {
      "cell_type": "code",
      "execution_count": 35,
      "metadata": {},
      "outputs": [
        {
          "name": "stdout",
          "output_type": "stream",
          "text": [
            "File: result_greedy58.txt\n",
            "NNS count: 19\n",
            "GM count: 25\n",
            "NIS count: 13\n",
            "\n",
            "File: result_greedy812.txt\n",
            "NNS count: 10\n",
            "GM count: 11\n",
            "NIS count: 4\n",
            "\n",
            "Total best eff NNS count: 29\n",
            "Total best eff GM count: 36\n",
            "Total best eff NIS count: 17\n"
          ]
        }
      ],
      "source": [
        "def count_best_eff(file_name):\n",
        "    nns_count = 0\n",
        "    gm_count = 0\n",
        "    nis_count = 0\n",
        "\n",
        "    with open(file_name, \"r\") as f:\n",
        "        for line in f:\n",
        "            if line.startswith(\"Best eff:\"):\n",
        "                if \"NNS\" in line:\n",
        "                    nns_count += 1\n",
        "                if \"GM\" in line:\n",
        "                    gm_count += 1\n",
        "                if \"NIS\" in line:\n",
        "                    nis_count += 1\n",
        "\n",
        "    return nns_count, gm_count, nis_count\n",
        "\n",
        "total_nns_count = 0\n",
        "total_gm_count = 0\n",
        "total_nis_count = 0\n",
        "\n",
        "file_names = [\"result_greedy58.txt\", \"result_greedy812.txt\"]\n",
        "for file_name in file_names:\n",
        "    nns_count, gm_count, nis_count = count_best_eff(file_name)\n",
        "    total_nns_count += nns_count\n",
        "    total_gm_count += gm_count\n",
        "    total_nis_count += nis_count\n",
        "    print(f\"File: {file_name}\")\n",
        "    print(f\"NNS count: {nns_count}\")\n",
        "    print(f\"GM count: {gm_count}\")\n",
        "    print(f\"NIS count: {nis_count}\\n\")\n",
        " \n",
        "print(f\"Total best eff NNS count: {total_nns_count}\")\n",
        "print(f\"Total best eff GM count: {total_gm_count}\")\n",
        "print(f\"Total best eff NIS count: {total_nis_count}\")\n"
      ]
    }
  ],
  "metadata": {
    "colab": {
      "provenance": []
    },
    "kernelspec": {
      "display_name": "Python 3",
      "name": "python3"
    },
    "language_info": {
      "codemirror_mode": {
        "name": "ipython",
        "version": 3
      },
      "file_extension": ".py",
      "mimetype": "text/x-python",
      "name": "python",
      "nbconvert_exporter": "python",
      "pygments_lexer": "ipython3",
      "version": "3.10.5"
    }
  },
  "nbformat": 4,
  "nbformat_minor": 0
}
